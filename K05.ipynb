{
 "cells": [
  {
   "cell_type": "markdown",
   "metadata": {},
   "source": [
    "## Kata 05\n",
    "Operadores matemáticos\n",
    "\n",
    "Ejercicio 01: Exploremos cómo podemos crear un programa que pueda calcular la distancia entre dos planetas. Comenzaremos usando dos distancias de planetas: Tierra (149.597.870 km) y Júpiter (778.547.200 km)."
   ]
  },
  {
   "cell_type": "code",
   "execution_count": 3,
   "metadata": {},
   "outputs": [
    {
     "name": "stdout",
     "output_type": "stream",
     "text": [
      "628949330 km entre ellos\n",
      "390577534 millas entre ellos\n"
     ]
    }
   ],
   "source": [
    "from math import ceil\n",
    "\n",
    "# Crear variables para almacenar las dos distancias\n",
    "# ¡Asegúrate de quitar las comas!\n",
    "\n",
    "earthDistance = 149597870 # km\n",
    "jupyterDistance =  778547200 # km\n",
    "\n",
    "distanceBetweenthem = abs(earthDistance - jupyterDistance)\n",
    "\n",
    "print(f'{distanceBetweenthem} km entre ellos')\n",
    "\n",
    "print(f'{ceil(distanceBetweenthem * 0.621)} millas entre ellos')\n"
   ]
  },
  {
   "cell_type": "markdown",
   "metadata": {},
   "source": [
    "Ejercico 02: \n",
    "Para crear nuestra aplicación, queremos leer la distancia del sol para dos planetas, y luego mostrar la distancia entre los planetas. Haremos esto usando input para leer los valores, int para convertir a entero y luego abs para convertir el resultado en su valor absoluto."
   ]
  },
  {
   "cell_type": "code",
   "execution_count": null,
   "metadata": {},
   "outputs": [],
   "source": [
    "# Almacenar las entradas del usuario\n",
    "firstPlanetDistance = input(\"Ingrese la distancia en km del primer planeta\")\n",
    "secondPlanetDistance = input(\"Ingrese la distancia en km del segundo planeta\")\n",
    "\n",
    "# Convierte las cadenas de ambos planetas a números enteros\n",
    "firstPlanetDistanceNumber = int(firstPlanetDistance)\n",
    "secondPlanetDistanceNumber = int(secondPlanetDistance)\n",
    "\n",
    "# Realizar el cálculo y determinar el valor absoluto\n",
    "\n",
    "distanceKM = abs(firstPlanetDistanceNumber - secondPlanetDistanceNumber)\n",
    "print(distanceKM)\n",
    "# Convertir de KM a Millas\n",
    "\n",
    "distanceMiles = distanceKM *  0.621\n",
    "print(distanceMiles)\n"
   ]
  }
 ],
 "metadata": {
  "interpreter": {
   "hash": "aee8b7b246df8f9039afb4144a1f6fd8d2ca17a180786b69acc140d282b71a49"
  },
  "kernelspec": {
   "display_name": "Python 3.10.2 64-bit",
   "language": "python",
   "name": "python3"
  },
  "language_info": {
   "codemirror_mode": {
    "name": "ipython",
    "version": 3
   },
   "file_extension": ".py",
   "mimetype": "text/x-python",
   "name": "python",
   "nbconvert_exporter": "python",
   "pygments_lexer": "ipython3",
   "version": "3.10.2"
  },
  "orig_nbformat": 4
 },
 "nbformat": 4,
 "nbformat_minor": 2
}

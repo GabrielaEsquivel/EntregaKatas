{
 "cells": [
  {
   "cell_type": "code",
   "execution_count": null,
   "metadata": {},
   "outputs": [],
   "source": [
    "# Función para leer 3 tanques de combustible y muestre el promedio\n",
    "def reporteTanques(tanque1, tanque2, tanque3):\n",
    "    print(f\"\"\"El tanque 1 tiene {tanque1} de combustible \n",
    "    El tanque 2 tiene {tanque2} de combustible\n",
    "    El tanque 3 tiene {tanque3} de combustible \"\"\")\n",
    "\n",
    "    avg = (tanque1 + tanque2 + tanque3) / 3\n",
    "    print(f'El promedio es: {avg} ')"
   ]
  },
  {
   "cell_type": "code",
   "execution_count": null,
   "metadata": {},
   "outputs": [],
   "source": [
    "# Llamamos a la función que genera el reporte print(funcion(tanque1, tanque2, tanque3))\n",
    "\n",
    "reporteTanques(1,2,3)"
   ]
  },
  {
   "cell_type": "code",
   "execution_count": null,
   "metadata": {},
   "outputs": [],
   "source": [
    "# Función promedio \n",
    "def setAvg(tanque1, tanque2, tanque3):\n",
    "    avg = (tanque1 + tanque2 + tanque3) / 3\n",
    "    print(f'El promedio es: {avg} ')"
   ]
  },
  {
   "cell_type": "code",
   "execution_count": null,
   "metadata": {},
   "outputs": [],
   "source": [
    "# Actualiza la función\n",
    "def reporteTanques(tanque1, tanque2, tanque3):\n",
    "    print(f\"\"\"El tanque 1 tiene {tanque1} de combustible \n",
    "    El tanque 2 tiene {tanque2} de combustible\n",
    "    El tanque 3 tiene {tanque3} de combustible \"\"\")\n",
    "\n",
    "    setAvg(tanque1, tanque2, tanque3)"
   ]
  },
  {
   "cell_type": "code",
   "execution_count": null,
   "metadata": {},
   "outputs": [],
   "source": [
    "# Función con un informe preciso de la misión. Considera hora de prelanzamiento, tiempo de vuelo, destino, tanque externo y tanque interno\n",
    "def reporteMision(prelanzamiento, horaVuelo, destino, tanque1, tanque2):\n",
    "    return f\"\"\"\n",
    "    Mission to {destino}\n",
    "    Total travel time: {prelanzamiento + horaVuelo} minutes\n",
    "    Total fuel left: {tanque1 + tanque2} gallons\n",
    "    \"\"\"\n",
    "\n",
    "print(reporteMision(14, 51, \"Moon\", 200000, 300000))"
   ]
  },
  {
   "cell_type": "code",
   "execution_count": null,
   "metadata": {},
   "outputs": [],
   "source": [
    "# Escribe tu nueva función de reporte considerando lo anterior\n",
    "def reporteMision(destino, *minutes, **combustible):\n",
    "    return f\"\"\"\n",
    "    Mission to {destino}\n",
    "    Total travel time: {sum(minutes)} minutes\n",
    "    Total fuel left: { sum(combustible.values()) } gallons\n",
    "    \"\"\"\n",
    "\n",
    "print(reporteMision(\"Moon\", 10, 15, 51, main=300000, external=200000))\n"
   ]
  },
  {
   "cell_type": "code",
   "execution_count": null,
   "metadata": {},
   "outputs": [],
   "source": [
    "# Escribe tu nueva función\n",
    "def reporteMision(destino, *minutes, **combustible):\n",
    "    reporte =  f\"\"\"\n",
    "    Mission to {destino}\n",
    "    Total travel time: {sum(minutes)} minutes\n",
    "    Total fuel left: { sum(combustible.values()) } gallons\n",
    "    \"\"\"\n",
    "    for tank_name, gallons in combustible.items():\n",
    "        reporte += f\"{tank_name} tank --> {gallons} gallons left\\n\"\n",
    "    \n",
    "    return reporte\n",
    "\n"
   ]
  },
  {
   "cell_type": "code",
   "execution_count": null,
   "metadata": {},
   "outputs": [],
   "source": [
    "reporteMision(\"Moon\", 8, 11, 55, main=300000, external=200000)\n"
   ]
  }
 ],
 "metadata": {
  "language_info": {
   "name": "python"
  },
  "orig_nbformat": 4
 },
 "nbformat": 4,
 "nbformat_minor": 2
}

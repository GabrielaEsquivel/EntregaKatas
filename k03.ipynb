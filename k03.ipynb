{
 "cells": [
  {
   "cell_type": "markdown",
   "metadata": {},
   "source": [
    "## Kata 03\n",
    "Condicionales If, Else , Elif"
   ]
  },
  {
   "cell_type": "markdown",
   "metadata": {},
   "source": [
    "  La velocidad del asteroide varía dependiendo de lo cerca que esté del sol, y cualquier velocidad superior a 25 kilómetros por segundo (km/s) merece una advertencia. Un asteroide se acerca, y viaja a una velocidad de 49 km/s."
   ]
  },
  {
   "cell_type": "code",
   "execution_count": 4,
   "metadata": {},
   "outputs": [
    {
     "name": "stdout",
     "output_type": "stream",
     "text": [
      "¡Hay un asteroide acercándose a toda velocidad!\n"
     ]
    }
   ],
   "source": [
    "speedAsteroide = 39 #km/s \n",
    "if speedAsteroide > 25 : \n",
    "    print('¡Hay un asteroide acercándose a toda velocidad!')\n",
    "else : \n",
    "    print('No pasa nada, estamos fuera de peligro, por ahora.')"
   ]
  },
  {
   "cell_type": "markdown",
   "metadata": {},
   "source": [
    "Si un asteroide entra en la atmósfera de la Tierra a una velocidad mayor o igual a 20 km/s, a veces produce un rayo de luz que se puede ver desde la Tierra. Escribe la lógica condicional que usa declaraciones if, else, y elif para alertar a las personas de todo el mundo que deben buscar un asteroide en el cielo. ¡Hay uno que se dirige a la tierra ahora a una velocidad de 19 km/s!"
   ]
  },
  {
   "cell_type": "code",
   "execution_count": 6,
   "metadata": {},
   "outputs": [
    {
     "name": "stdout",
     "output_type": "stream",
     "text": [
      "¡Mira! ¡Una luz mágica!\n"
     ]
    }
   ],
   "source": [
    "speedAsteroide = 29 #km/s \n",
    "if speedAsteroide == 20 : \n",
    "    print('¡Mira! ¡Una luz mágica!')\n",
    "elif speedAsteroide > 20 :\n",
    "    print('¡Mira! ¡Una luz mágica!')\n",
    "else : \n",
    "    print('¡No hay nada!')"
   ]
  },
  {
   "cell_type": "markdown",
   "metadata": {},
   "source": [
    "Ejercicio con operadores OR y AND.\n",
    "\n",
    "Mejora al sistema de advertencias para asteroides. Puntos a considerar:\n",
    "\n",
    "    *Los asteroides de menos de 25 metros en su dimensión más grande probablemente se quemarán a medida que entren en la atmósfera de la Tierra.\n",
    "\n",
    "    *Si una pieza de un asteroide que es más grande que 25 metros pero más pequeña que 1000 metros golpeara la Tierra, causaría mucho daño.\n",
    "\n",
    "También discutimos en el ejercicio anterior que:\n",
    "\n",
    "    *La velocidad del asteroide varía en función de lo cerca que esté del sol, y cualquier velocidad superior a 25 kilómetros por segundo (km/s) merece una advertencia.\n",
    "    *Si un asteroide entra en la atmósfera de la Tierra a una velocidad mayor o igual a 20 km/s, a veces produce un rayo de luz que se puede ver desde la Tierra.\n",
    " "
   ]
  },
  {
   "cell_type": "code",
   "execution_count": null,
   "metadata": {},
   "outputs": [],
   "source": [
    "speedAsteroide = 29 #km/s \n",
    "sizeAsteroide = 10 # m\n",
    "if speedAsteroide > 25 and sizeAsteroide>25 and sizeAsteroide<1000: \n",
    "    print('¡Hay un asteroide acercándose a toda velocidad! Y causará mucho daño')\n",
    "elif speedAsteroide >= 20:\n",
    "    print('¡Mira! ¡Una luz mágica!')\n",
    "elif sizeAsteroide < 25:\n",
    "    print('¡No hay nada! :D')\n",
    "else : \n",
    "    print('¡No hay nada! :D')"
   ]
  }
 ],
 "metadata": {
  "interpreter": {
   "hash": "aee8b7b246df8f9039afb4144a1f6fd8d2ca17a180786b69acc140d282b71a49"
  },
  "kernelspec": {
   "display_name": "Python 3.10.2 64-bit",
   "language": "python",
   "name": "python3"
  },
  "language_info": {
   "codemirror_mode": {
    "name": "ipython",
    "version": 3
   },
   "file_extension": ".py",
   "mimetype": "text/x-python",
   "name": "python",
   "nbconvert_exporter": "python",
   "pygments_lexer": "ipython3",
   "version": "3.10.2"
  },
  "orig_nbformat": 4
 },
 "nbformat": 4,
 "nbformat_minor": 2
}
